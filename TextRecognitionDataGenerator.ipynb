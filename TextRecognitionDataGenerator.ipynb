{
  "nbformat": 4,
  "nbformat_minor": 0,
  "metadata": {
    "colab": {
      "name": "TextRecognitionDataGenerator.ipynb",
      "provenance": [],
      "collapsed_sections": [],
      "authorship_tag": "ABX9TyOLNmGGc2tEcqNWUH/QM4ws",
      "include_colab_link": true
    },
    "kernelspec": {
      "name": "python3",
      "display_name": "Python 3"
    },
    "language_info": {
      "name": "python"
    }
  },
  "cells": [
    {
      "cell_type": "markdown",
      "metadata": {
        "id": "view-in-github",
        "colab_type": "text"
      },
      "source": [
        "<a href=\"https://colab.research.google.com/github/Nivratti/synth_text/blob/main/TextRecognitionDataGenerator.ipynb\" target=\"_parent\"><img src=\"https://colab.research.google.com/assets/colab-badge.svg\" alt=\"Open In Colab\"/></a>"
      ]
    },
    {
      "cell_type": "markdown",
      "metadata": {
        "id": "CryCE1B1F2U7"
      },
      "source": [
        "# <font color=\"green\" size=\"+3\">Text<font color=\"red\" size=\"+3\"> Recognition <font color=\"green\" size=\"+3\">data generator</font>\n",
        "\n",
        "Generating synthesized dataset for ocr from text"
      ]
    },
    {
      "cell_type": "markdown",
      "metadata": {
        "id": "aJe9s_nuF6Ch"
      },
      "source": [
        "## <font color=\"#0AC009\" size=\"+3\">1. Setup</font>"
      ]
    },
    {
      "cell_type": "code",
      "metadata": {
        "colab": {
          "base_uri": "https://localhost:8080/",
          "height": 861
        },
        "id": "v0JkWfGMC4Q2",
        "outputId": "3e990389-9dd5-40e3-f622-de6f1deefbee"
      },
      "source": [
        "!pip install trdg"
      ],
      "execution_count": 1,
      "outputs": [
        {
          "output_type": "stream",
          "name": "stdout",
          "text": [
            "Collecting trdg\n",
            "  Downloading trdg-1.7.0-py3-none-any.whl (91.2 MB)\n",
            "\u001b[K     |████████████████████████████████| 91.2 MB 14 kB/s \n",
            "\u001b[?25hCollecting diffimg==0.2.3\n",
            "  Downloading diffimg-0.2.3.tar.gz (4.1 kB)\n",
            "Requirement already satisfied: pillow>=7.0.0 in /usr/local/lib/python3.7/dist-packages (from trdg) (7.1.2)\n",
            "Collecting numpy<1.17,>=1.16.4\n",
            "  Downloading numpy-1.16.6-cp37-cp37m-manylinux1_x86_64.whl (17.3 MB)\n",
            "\u001b[K     |████████████████████████████████| 17.3 MB 184 kB/s \n",
            "\u001b[?25hCollecting opencv-python>=4.2.0.32\n",
            "  Downloading opencv_python-4.5.3.56-cp37-cp37m-manylinux2014_x86_64.whl (49.9 MB)\n",
            "\u001b[K     |████████████████████████████████| 49.9 MB 37 kB/s \n",
            "\u001b[?25hRequirement already satisfied: requests>=2.20.0 in /usr/local/lib/python3.7/dist-packages (from trdg) (2.23.0)\n",
            "Requirement already satisfied: beautifulsoup4>=4.6.0 in /usr/local/lib/python3.7/dist-packages (from trdg) (4.6.3)\n",
            "Requirement already satisfied: tqdm>=4.23.0 in /usr/local/lib/python3.7/dist-packages (from trdg) (4.62.2)\n",
            "Requirement already satisfied: idna<3,>=2.5 in /usr/local/lib/python3.7/dist-packages (from requests>=2.20.0->trdg) (2.10)\n",
            "Requirement already satisfied: chardet<4,>=3.0.2 in /usr/local/lib/python3.7/dist-packages (from requests>=2.20.0->trdg) (3.0.4)\n",
            "Requirement already satisfied: certifi>=2017.4.17 in /usr/local/lib/python3.7/dist-packages (from requests>=2.20.0->trdg) (2021.5.30)\n",
            "Requirement already satisfied: urllib3!=1.25.0,!=1.25.1,<1.26,>=1.21.1 in /usr/local/lib/python3.7/dist-packages (from requests>=2.20.0->trdg) (1.24.3)\n",
            "Building wheels for collected packages: diffimg\n",
            "  Building wheel for diffimg (setup.py) ... \u001b[?25l\u001b[?25hdone\n",
            "  Created wheel for diffimg: filename=diffimg-0.2.3-py3-none-any.whl size=4049 sha256=bb9a5275ae9ed519c223fb54e9667d64d132f15e4b327b5c62d25603f20d929d\n",
            "  Stored in directory: /root/.cache/pip/wheels/6c/5d/60/bde2a959be56bca572bd67d49ebd52844d2ef933e85601dfa9\n",
            "Successfully built diffimg\n",
            "Installing collected packages: numpy, opencv-python, diffimg, trdg\n",
            "  Attempting uninstall: numpy\n",
            "    Found existing installation: numpy 1.19.5\n",
            "    Uninstalling numpy-1.19.5:\n",
            "      Successfully uninstalled numpy-1.19.5\n",
            "  Attempting uninstall: opencv-python\n",
            "    Found existing installation: opencv-python 4.1.2.30\n",
            "    Uninstalling opencv-python-4.1.2.30:\n",
            "      Successfully uninstalled opencv-python-4.1.2.30\n",
            "\u001b[31mERROR: pip's dependency resolver does not currently take into account all the packages that are installed. This behaviour is the source of the following dependency conflicts.\n",
            "xarray 0.18.2 requires numpy>=1.17, but you have numpy 1.16.6 which is incompatible.\n",
            "tensorflow 2.6.0 requires numpy~=1.19.2, but you have numpy 1.16.6 which is incompatible.\n",
            "pyerfa 2.0.0 requires numpy>=1.17, but you have numpy 1.16.6 which is incompatible.\n",
            "kapre 0.3.5 requires numpy>=1.18.5, but you have numpy 1.16.6 which is incompatible.\n",
            "jaxlib 0.1.70+cuda111 requires numpy>=1.18, but you have numpy 1.16.6 which is incompatible.\n",
            "jax 0.2.19 requires numpy>=1.18, but you have numpy 1.16.6 which is incompatible.\n",
            "datascience 0.10.6 requires folium==0.2.1, but you have folium 0.8.3 which is incompatible.\n",
            "astropy 4.3.1 requires numpy>=1.17, but you have numpy 1.16.6 which is incompatible.\n",
            "albumentations 0.1.12 requires imgaug<0.2.7,>=0.2.5, but you have imgaug 0.2.9 which is incompatible.\u001b[0m\n",
            "Successfully installed diffimg-0.2.3 numpy-1.16.6 opencv-python-4.5.3.56 trdg-1.7.0\n"
          ]
        },
        {
          "output_type": "display_data",
          "data": {
            "application/vnd.colab-display-data+json": {
              "pip_warning": {
                "packages": [
                  "numpy"
                ]
              }
            }
          },
          "metadata": {}
        }
      ]
    },
    {
      "cell_type": "markdown",
      "metadata": {
        "id": "0XNTeaU2IAhB"
      },
      "source": [
        "## <font color=\"#0AC009\" size=\"+3\">2. Usage</font>"
      ]
    },
    {
      "cell_type": "markdown",
      "metadata": {
        "id": "0mAf5-RrIA67"
      },
      "source": [
        "#### <font color=\"42a5f5\" size=\"+2\">2.1) Command line</font>\n"
      ]
    },
    {
      "cell_type": "code",
      "metadata": {
        "colab": {
          "base_uri": "https://localhost:8080/"
        },
        "id": "UFzYcA6jED-7",
        "outputId": "d1247df8-470a-4297-ca09-46e47b73e012"
      },
      "source": [
        "## -f : default 32 : Define the height of the produced images if horizontal, else the width\n",
        "## -w : Number of words\n",
        "## --background : Define what kind of background to use. 0: Gaussian Noise, 1: Plain white, 2: Quasicrystal, 3: Image\n",
        "##                if 3 means background selected from image folder. You can add param --image_dir to set background images folder\n",
        "!trdg --count 10 -w 5 -f 64 --background 3 --thread_count 1"
      ],
      "execution_count": 2,
      "outputs": [
        {
          "output_type": "stream",
          "name": "stdout",
          "text": [
            "100% 10/10 [00:01<00:00,  8.89it/s]\n"
          ]
        }
      ]
    },
    {
      "cell_type": "markdown",
      "metadata": {
        "id": "53XEnRFxIKPD"
      },
      "source": [
        "#### <font color=\"42a5f5\" size=\"+2\">2.2) Python script</font>\n"
      ]
    },
    {
      "cell_type": "code",
      "metadata": {
        "id": "biKMyAi9INUc"
      },
      "source": [
        "from trdg.generators import (\n",
        "    GeneratorFromDict,\n",
        "    GeneratorFromRandom,\n",
        "    GeneratorFromStrings,\n",
        "    GeneratorFromWikipedia,\n",
        ")\n",
        "\n",
        "# The generators use the same arguments as the CLI, only as parameters\n",
        "generator = GeneratorFromStrings(\n",
        "    ['D.O.B.:', 'Test2', 'Test3'],\n",
        "    blur=1,\n",
        "    random_blur=True\n",
        ")\n",
        "\n",
        "count = 0\n",
        "how_many = 10 # How many images to generate\n",
        "\n",
        "for img, lbl in generator:\n",
        "    # Do something with the pillow images here.\n",
        "    # Save images\n",
        "    \n",
        "    count += 1\n",
        "\n",
        "    if count >= how_many:\n",
        "        break"
      ],
      "execution_count": 16,
      "outputs": []
    },
    {
      "cell_type": "code",
      "metadata": {
        "colab": {
          "base_uri": "https://localhost:8080/",
          "height": 49
        },
        "id": "JqzQ0kccRFua",
        "outputId": "e5b64eb6-6cf4-4f86-968c-7186db5d5e0e"
      },
      "source": [
        "img"
      ],
      "execution_count": 17,
      "outputs": [
        {
          "output_type": "execute_result",
          "data": {
            "image/png": "[encoded data removed]",
            "text/plain": [
              "<PIL.Image.Image image mode=RGB size=81x32 at 0x7FD6B838A690>"
            ]
          },
          "metadata": {},
          "execution_count": 17
        }
      ]
    }
  ]
}
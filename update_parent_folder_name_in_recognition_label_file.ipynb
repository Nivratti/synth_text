{
  "nbformat": 4,
  "nbformat_minor": 0,
  "metadata": {
    "colab": {
      "name": "update_parent_folder_name_in_recognition_label_file.ipynb",
      "provenance": [],
      "collapsed_sections": [],
      "mount_file_id": "1tXBfGz08EG8q1xw3J2JI3lM9DffZ_Any",
      "authorship_tag": "ABX9TyP3G7RNZdKn7rxJItOpL3CW",
      "include_colab_link": true
    },
    "kernelspec": {
      "name": "python3",
      "display_name": "Python 3"
    },
    "language_info": {
      "name": "python"
    }
  },
  "cells": [
    {
      "cell_type": "markdown",
      "metadata": {
        "id": "view-in-github",
        "colab_type": "text"
      },
      "source": [
        "<a href=\"https://colab.research.google.com/github/Nivratti/synth_text/blob/main/update_parent_folder_name_in_recognition_label_file.ipynb\" target=\"_parent\"><img src=\"https://colab.research.google.com/assets/colab-badge.svg\" alt=\"Open In Colab\"/></a>"
      ]
    },
    {
      "cell_type": "markdown",
      "metadata": {
        "id": "JeZ_9-We3MjH"
      },
      "source": [
        "# <font color=\"green\" size=\"+3\">Update<font color=\"red\" size=\"+3\"> Parent foldername <font color=\"green\" size=\"+3\">in recognition label file</font>"
      ]
    },
    {
      "cell_type": "markdown",
      "metadata": {
        "id": "Va_Vyz4NFXsb"
      },
      "source": [
        "## <font color=\"0AC009\" size=\"+3\">1. Update parent folder path in train labels file</font> <font color=\"red\" size=\"+3\"></font>\n"
      ]
    },
    {
      "cell_type": "code",
      "metadata": {
        "id": "9oB1OJXlvMBM"
      },
      "source": [
        "train_filepath =  \"/content/drive/MyDrive/deep_learning/ocr/dataset/recognition/icdar_2015/rec_gt_train.txt\""
      ],
      "execution_count": 1,
      "outputs": []
    },
    {
      "cell_type": "code",
      "metadata": {
        "colab": {
          "base_uri": "https://localhost:8080/",
          "height": 203
        },
        "id": "uz1e7A3UwZ-q",
        "outputId": "3b37d350-d638-4ea3-9ce0-291e695af462"
      },
      "source": [
        "import pandas as pd\n",
        "\n",
        "df = pd.read_csv(train_filepath, sep='\\t', names=[\"filepath\", \"transcription\"], engine='python')\n",
        "\n",
        "df.head()"
      ],
      "execution_count": 2,
      "outputs": [
        {
          "output_type": "execute_result",
          "data": {
            "text/html": [
              "<div>\n",
              "<style scoped>\n",
              "    .dataframe tbody tr th:only-of-type {\n",
              "        vertical-align: middle;\n",
              "    }\n",
              "\n",
              "    .dataframe tbody tr th {\n",
              "        vertical-align: top;\n",
              "    }\n",
              "\n",
              "    .dataframe thead th {\n",
              "        text-align: right;\n",
              "    }\n",
              "</style>\n",
              "<table border=\"1\" class=\"dataframe\">\n",
              "  <thead>\n",
              "    <tr style=\"text-align: right;\">\n",
              "      <th></th>\n",
              "      <th>filepath</th>\n",
              "      <th>transcription</th>\n",
              "    </tr>\n",
              "  </thead>\n",
              "  <tbody>\n",
              "    <tr>\n",
              "      <th>0</th>\n",
              "      <td>train/word_1.png</td>\n",
              "      <td>GenaxisTheatre</td>\n",
              "    </tr>\n",
              "    <tr>\n",
              "      <th>1</th>\n",
              "      <td>train/word_2.png</td>\n",
              "      <td>[06]</td>\n",
              "    </tr>\n",
              "    <tr>\n",
              "      <th>2</th>\n",
              "      <td>train/word_3.png</td>\n",
              "      <td>62-03</td>\n",
              "    </tr>\n",
              "    <tr>\n",
              "      <th>3</th>\n",
              "      <td>train/word_4.png</td>\n",
              "      <td>Carpark</td>\n",
              "    </tr>\n",
              "    <tr>\n",
              "      <th>4</th>\n",
              "      <td>train/word_5.png</td>\n",
              "      <td>EXIT</td>\n",
              "    </tr>\n",
              "  </tbody>\n",
              "</table>\n",
              "</div>"
            ],
            "text/plain": [
              "           filepath   transcription\n",
              "0  train/word_1.png  GenaxisTheatre\n",
              "1  train/word_2.png            [06]\n",
              "2  train/word_3.png           62-03\n",
              "3  train/word_4.png         Carpark\n",
              "4  train/word_5.png            EXIT"
            ]
          },
          "metadata": {},
          "execution_count": 2
        }
      ]
    },
    {
      "cell_type": "code",
      "metadata": {
        "colab": {
          "base_uri": "https://localhost:8080/"
        },
        "id": "QE0FE3Fwwiwj",
        "outputId": "20759f5e-688d-441d-a89f-74dfe7765e23"
      },
      "source": [
        "df.info()"
      ],
      "execution_count": 3,
      "outputs": [
        {
          "output_type": "stream",
          "name": "stdout",
          "text": [
            "<class 'pandas.core.frame.DataFrame'>\n",
            "RangeIndex: 4468 entries, 0 to 4467\n",
            "Data columns (total 2 columns):\n",
            " #   Column         Non-Null Count  Dtype \n",
            "---  ------         --------------  ----- \n",
            " 0   filepath       4468 non-null   object\n",
            " 1   transcription  4468 non-null   object\n",
            "dtypes: object(2)\n",
            "memory usage: 69.9+ KB\n"
          ]
        }
      ]
    },
    {
      "cell_type": "code",
      "metadata": {
        "id": "Sbf_8Eu1w1Ht"
      },
      "source": [
        "df[\"filepath\"] = 'icdar_2015/' + df[\"filepath\"]"
      ],
      "execution_count": 5,
      "outputs": []
    },
    {
      "cell_type": "code",
      "metadata": {
        "colab": {
          "base_uri": "https://localhost:8080/",
          "height": 203
        },
        "id": "S_WfPhXfxDJe",
        "outputId": "3ff39497-0da2-4c3a-959d-1857731efe90"
      },
      "source": [
        "df.head()"
      ],
      "execution_count": 6,
      "outputs": [
        {
          "output_type": "execute_result",
          "data": {
            "text/html": [
              "<div>\n",
              "<style scoped>\n",
              "    .dataframe tbody tr th:only-of-type {\n",
              "        vertical-align: middle;\n",
              "    }\n",
              "\n",
              "    .dataframe tbody tr th {\n",
              "        vertical-align: top;\n",
              "    }\n",
              "\n",
              "    .dataframe thead th {\n",
              "        text-align: right;\n",
              "    }\n",
              "</style>\n",
              "<table border=\"1\" class=\"dataframe\">\n",
              "  <thead>\n",
              "    <tr style=\"text-align: right;\">\n",
              "      <th></th>\n",
              "      <th>filepath</th>\n",
              "      <th>transcription</th>\n",
              "    </tr>\n",
              "  </thead>\n",
              "  <tbody>\n",
              "    <tr>\n",
              "      <th>0</th>\n",
              "      <td>icdar_2015/train/word_1.png</td>\n",
              "      <td>GenaxisTheatre</td>\n",
              "    </tr>\n",
              "    <tr>\n",
              "      <th>1</th>\n",
              "      <td>icdar_2015/train/word_2.png</td>\n",
              "      <td>[06]</td>\n",
              "    </tr>\n",
              "    <tr>\n",
              "      <th>2</th>\n",
              "      <td>icdar_2015/train/word_3.png</td>\n",
              "      <td>62-03</td>\n",
              "    </tr>\n",
              "    <tr>\n",
              "      <th>3</th>\n",
              "      <td>icdar_2015/train/word_4.png</td>\n",
              "      <td>Carpark</td>\n",
              "    </tr>\n",
              "    <tr>\n",
              "      <th>4</th>\n",
              "      <td>icdar_2015/train/word_5.png</td>\n",
              "      <td>EXIT</td>\n",
              "    </tr>\n",
              "  </tbody>\n",
              "</table>\n",
              "</div>"
            ],
            "text/plain": [
              "                      filepath   transcription\n",
              "0  icdar_2015/train/word_1.png  GenaxisTheatre\n",
              "1  icdar_2015/train/word_2.png            [06]\n",
              "2  icdar_2015/train/word_3.png           62-03\n",
              "3  icdar_2015/train/word_4.png         Carpark\n",
              "4  icdar_2015/train/word_5.png            EXIT"
            ]
          },
          "metadata": {},
          "execution_count": 6
        }
      ]
    },
    {
      "cell_type": "code",
      "metadata": {
        "id": "KnttzXc_xY_d"
      },
      "source": [
        "import os\n",
        "out_folder = \"/content/drive/MyDrive/deep_learning/ocr/dataset/recognition/icdar_2015/\"\n",
        "out_filepath = os.path.join(out_folder, \"rec_gt_train_updated_path.txt\")\n",
        "\n",
        "df.to_csv(out_filepath, sep='\\t', index=None, header=None)"
      ],
      "execution_count": 10,
      "outputs": []
    },
    {
      "cell_type": "markdown",
      "metadata": {
        "id": "g0zFsIQYydb2"
      },
      "source": [
        "## <font color=\"0AC009\" size=\"+3\">2. Test labels file update</font> <font color=\"red\" size=\"+3\"></font>\n"
      ]
    },
    {
      "cell_type": "code",
      "metadata": {
        "id": "-J6FYl76ydb4"
      },
      "source": [
        "test_filepath =  \"/content/drive/MyDrive/deep_learning/ocr/dataset/recognition/icdar_2015/rec_gt_test.txt\""
      ],
      "execution_count": 13,
      "outputs": []
    },
    {
      "cell_type": "code",
      "metadata": {
        "colab": {
          "base_uri": "https://localhost:8080/",
          "height": 203
        },
        "id": "_dKpHVTeydb5",
        "outputId": "7b68ae51-acb6-44d4-e1f0-130f696e4986"
      },
      "source": [
        "import pandas as pd\n",
        "\n",
        "df = pd.read_csv(test_filepath, sep='\\t', names=[\"filepath\", \"transcription\"], engine='python')\n",
        "\n",
        "df.head()"
      ],
      "execution_count": 14,
      "outputs": [
        {
          "output_type": "execute_result",
          "data": {
            "text/html": [
              "<div>\n",
              "<style scoped>\n",
              "    .dataframe tbody tr th:only-of-type {\n",
              "        vertical-align: middle;\n",
              "    }\n",
              "\n",
              "    .dataframe tbody tr th {\n",
              "        vertical-align: top;\n",
              "    }\n",
              "\n",
              "    .dataframe thead th {\n",
              "        text-align: right;\n",
              "    }\n",
              "</style>\n",
              "<table border=\"1\" class=\"dataframe\">\n",
              "  <thead>\n",
              "    <tr style=\"text-align: right;\">\n",
              "      <th></th>\n",
              "      <th>filepath</th>\n",
              "      <th>transcription</th>\n",
              "    </tr>\n",
              "  </thead>\n",
              "  <tbody>\n",
              "    <tr>\n",
              "      <th>0</th>\n",
              "      <td>test/word_1.png</td>\n",
              "      <td>JOINT</td>\n",
              "    </tr>\n",
              "    <tr>\n",
              "      <th>1</th>\n",
              "      <td>test/word_2.png</td>\n",
              "      <td>yourself</td>\n",
              "    </tr>\n",
              "    <tr>\n",
              "      <th>2</th>\n",
              "      <td>test/word_3.png</td>\n",
              "      <td>154</td>\n",
              "    </tr>\n",
              "    <tr>\n",
              "      <th>3</th>\n",
              "      <td>test/word_4.png</td>\n",
              "      <td>197</td>\n",
              "    </tr>\n",
              "    <tr>\n",
              "      <th>4</th>\n",
              "      <td>test/word_5.png</td>\n",
              "      <td>727</td>\n",
              "    </tr>\n",
              "  </tbody>\n",
              "</table>\n",
              "</div>"
            ],
            "text/plain": [
              "          filepath transcription\n",
              "0  test/word_1.png         JOINT\n",
              "1  test/word_2.png      yourself\n",
              "2  test/word_3.png           154\n",
              "3  test/word_4.png           197\n",
              "4  test/word_5.png           727"
            ]
          },
          "metadata": {},
          "execution_count": 14
        }
      ]
    },
    {
      "cell_type": "code",
      "metadata": {
        "colab": {
          "base_uri": "https://localhost:8080/"
        },
        "id": "0iSxnxlUydb6",
        "outputId": "638f9737-cd25-4575-d1fc-2268be55e056"
      },
      "source": [
        "df.info()"
      ],
      "execution_count": 15,
      "outputs": [
        {
          "output_type": "stream",
          "name": "stdout",
          "text": [
            "<class 'pandas.core.frame.DataFrame'>\n",
            "RangeIndex: 2077 entries, 0 to 2076\n",
            "Data columns (total 2 columns):\n",
            " #   Column         Non-Null Count  Dtype \n",
            "---  ------         --------------  ----- \n",
            " 0   filepath       2077 non-null   object\n",
            " 1   transcription  2077 non-null   object\n",
            "dtypes: object(2)\n",
            "memory usage: 32.6+ KB\n"
          ]
        }
      ]
    },
    {
      "cell_type": "code",
      "metadata": {
        "id": "IlujvQtVydb7"
      },
      "source": [
        "df[\"filepath\"] = 'icdar_2015/' + df[\"filepath\"]"
      ],
      "execution_count": 16,
      "outputs": []
    },
    {
      "cell_type": "code",
      "metadata": {
        "colab": {
          "base_uri": "https://localhost:8080/",
          "height": 203
        },
        "id": "zXV9ttGsydb8",
        "outputId": "f72b8379-7a8b-4d2a-eb82-edd8f462e8a3"
      },
      "source": [
        "df.head()"
      ],
      "execution_count": 17,
      "outputs": [
        {
          "output_type": "execute_result",
          "data": {
            "text/html": [
              "<div>\n",
              "<style scoped>\n",
              "    .dataframe tbody tr th:only-of-type {\n",
              "        vertical-align: middle;\n",
              "    }\n",
              "\n",
              "    .dataframe tbody tr th {\n",
              "        vertical-align: top;\n",
              "    }\n",
              "\n",
              "    .dataframe thead th {\n",
              "        text-align: right;\n",
              "    }\n",
              "</style>\n",
              "<table border=\"1\" class=\"dataframe\">\n",
              "  <thead>\n",
              "    <tr style=\"text-align: right;\">\n",
              "      <th></th>\n",
              "      <th>filepath</th>\n",
              "      <th>transcription</th>\n",
              "    </tr>\n",
              "  </thead>\n",
              "  <tbody>\n",
              "    <tr>\n",
              "      <th>0</th>\n",
              "      <td>icdar_2015/test/word_1.png</td>\n",
              "      <td>JOINT</td>\n",
              "    </tr>\n",
              "    <tr>\n",
              "      <th>1</th>\n",
              "      <td>icdar_2015/test/word_2.png</td>\n",
              "      <td>yourself</td>\n",
              "    </tr>\n",
              "    <tr>\n",
              "      <th>2</th>\n",
              "      <td>icdar_2015/test/word_3.png</td>\n",
              "      <td>154</td>\n",
              "    </tr>\n",
              "    <tr>\n",
              "      <th>3</th>\n",
              "      <td>icdar_2015/test/word_4.png</td>\n",
              "      <td>197</td>\n",
              "    </tr>\n",
              "    <tr>\n",
              "      <th>4</th>\n",
              "      <td>icdar_2015/test/word_5.png</td>\n",
              "      <td>727</td>\n",
              "    </tr>\n",
              "  </tbody>\n",
              "</table>\n",
              "</div>"
            ],
            "text/plain": [
              "                     filepath transcription\n",
              "0  icdar_2015/test/word_1.png         JOINT\n",
              "1  icdar_2015/test/word_2.png      yourself\n",
              "2  icdar_2015/test/word_3.png           154\n",
              "3  icdar_2015/test/word_4.png           197\n",
              "4  icdar_2015/test/word_5.png           727"
            ]
          },
          "metadata": {},
          "execution_count": 17
        }
      ]
    },
    {
      "cell_type": "code",
      "metadata": {
        "id": "O3UOjc06ydb9"
      },
      "source": [
        "import os\n",
        "out_folder = \"/content/drive/MyDrive/deep_learning/ocr/dataset/recognition/icdar_2015/\"\n",
        "out_filepath = os.path.join(out_folder, \"rec_gt_test_updated_path.txt\")\n",
        "\n",
        "df.to_csv(out_filepath, sep='\\t', index=None, header=None)"
      ],
      "execution_count": 18,
      "outputs": []
    }
  ]
}
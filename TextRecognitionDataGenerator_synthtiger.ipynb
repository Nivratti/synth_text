{
  "nbformat": 4,
  "nbformat_minor": 0,
  "metadata": {
    "colab": {
      "name": "TextRecognitionDataGenerator--synthtiger.ipynb",
      "provenance": [],
      "collapsed_sections": [],
      "authorship_tag": "ABX9TyPKU0esnmXFoEuXtf8ESRuQ",
      "include_colab_link": true
    },
    "kernelspec": {
      "name": "python3",
      "display_name": "Python 3"
    },
    "language_info": {
      "name": "python"
    }
  },
  "cells": [
    {
      "cell_type": "markdown",
      "metadata": {
        "id": "view-in-github",
        "colab_type": "text"
      },
      "source": [
        "<a href=\"https://colab.research.google.com/github/Nivratti/synth_text/blob/main/TextRecognitionDataGenerator_synthtiger.ipynb\" target=\"_parent\"><img src=\"https://colab.research.google.com/assets/colab-badge.svg\" alt=\"Open In Colab\"/></a>"
      ]
    },
    {
      "cell_type": "markdown",
      "metadata": {
        "id": "CryCE1B1F2U7"
      },
      "source": [
        "# <font color=\"green\" size=\"+3\">synthtiger<font color=\"red\" size=\"+3\"> text Recognition <font color=\"green\" size=\"+3\">data generator</font>\n",
        "\n",
        "Generating synthesized dataset for ocr from text using -- [synthtiger](https://github.com/clovaai/synthtiger)"
      ]
    },
    {
      "cell_type": "markdown",
      "metadata": {
        "id": "aJe9s_nuF6Ch"
      },
      "source": [
        "## <font color=\"#0AC009\" size=\"+3\">1. Setup</font>"
      ]
    },
    {
      "cell_type": "code",
      "metadata": {
        "colab": {
          "base_uri": "https://localhost:8080/"
        },
        "id": "v0JkWfGMC4Q2",
        "outputId": "7acf6726-0509-4199-e129-1efd74305a83"
      },
      "source": [
        "!git clone https://github.com/clovaai/synthtiger.git"
      ],
      "execution_count": 1,
      "outputs": [
        {
          "output_type": "stream",
          "name": "stdout",
          "text": [
            "Cloning into 'synthtiger'...\n",
            "remote: Enumerating objects: 256, done.\u001b[K\n",
            "remote: Counting objects: 100% (256/256), done.\u001b[K\n",
            "remote: Compressing objects: 100% (199/199), done.\u001b[K\n",
            "remote: Total 256 (delta 51), reused 254 (delta 51), pack-reused 0\u001b[K\n",
            "Receiving objects: 100% (256/256), 18.71 MiB | 24.00 MiB/s, done.\n",
            "Resolving deltas: 100% (51/51), done.\n"
          ]
        }
      ]
    },
    {
      "cell_type": "code",
      "metadata": {
        "colab": {
          "base_uri": "https://localhost:8080/"
        },
        "id": "TzqXfcHAS-y-",
        "outputId": "b90f7929-b52b-43e1-8006-54516aabe634"
      },
      "source": [
        "%cd \"/content/synthtiger\""
      ],
      "execution_count": 2,
      "outputs": [
        {
          "output_type": "stream",
          "name": "stdout",
          "text": [
            "/content/synthtiger\n"
          ]
        }
      ]
    },
    {
      "cell_type": "code",
      "metadata": {
        "colab": {
          "base_uri": "https://localhost:8080/",
          "height": 995
        },
        "id": "bOENDLyVTALZ",
        "outputId": "4959fd03-f1bb-4bb9-8d14-f6a3aa69b9ab"
      },
      "source": [
        "!pip install -r requirements.txt"
      ],
      "execution_count": 3,
      "outputs": [
        {
          "output_type": "stream",
          "name": "stdout",
          "text": [
            "Collecting arabic-reshaper\n",
            "  Downloading arabic_reshaper-2.1.3-py3-none-any.whl (20 kB)\n",
            "Collecting blend-modes\n",
            "  Downloading blend_modes-2.1.0.tar.gz (17 kB)\n",
            "Collecting fonttools\n",
            "  Downloading fonttools-4.27.0-py3-none-any.whl (869 kB)\n",
            "\u001b[K     |████████████████████████████████| 869 kB 7.6 MB/s \n",
            "\u001b[?25hRequirement already satisfied: imgaug in /usr/local/lib/python3.7/dist-packages (from -r requirements.txt (line 4)) (0.2.9)\n",
            "Requirement already satisfied: numpy in /usr/local/lib/python3.7/dist-packages (from -r requirements.txt (line 5)) (1.19.5)\n",
            "Requirement already satisfied: opencv-python in /usr/local/lib/python3.7/dist-packages (from -r requirements.txt (line 6)) (4.1.2.30)\n",
            "Collecting Pillow>=8.2.0\n",
            "  Downloading Pillow-8.3.2-cp37-cp37m-manylinux_2_17_x86_64.manylinux2014_x86_64.whl (3.0 MB)\n",
            "\u001b[K     |████████████████████████████████| 3.0 MB 36.4 MB/s \n",
            "\u001b[?25hCollecting pygame\n",
            "  Downloading pygame-2.0.1-cp37-cp37m-manylinux1_x86_64.whl (11.8 MB)\n",
            "\u001b[K     |████████████████████████████████| 11.8 MB 139 kB/s \n",
            "\u001b[?25hCollecting python-bidi\n",
            "  Downloading python_bidi-0.4.2-py2.py3-none-any.whl (30 kB)\n",
            "Collecting pytweening\n",
            "  Downloading pytweening-1.0.4.tar.gz (14 kB)\n",
            "Requirement already satisfied: pyyaml in /usr/local/lib/python3.7/dist-packages (from -r requirements.txt (line 11)) (3.13)\n",
            "Requirement already satisfied: regex in /usr/local/lib/python3.7/dist-packages (from -r requirements.txt (line 12)) (2019.12.20)\n",
            "Requirement already satisfied: scipy in /usr/local/lib/python3.7/dist-packages (from -r requirements.txt (line 13)) (1.4.1)\n",
            "Requirement already satisfied: setuptools in /usr/local/lib/python3.7/dist-packages (from arabic-reshaper->-r requirements.txt (line 1)) (57.4.0)\n",
            "Requirement already satisfied: future in /usr/local/lib/python3.7/dist-packages (from arabic-reshaper->-r requirements.txt (line 1)) (0.16.0)\n",
            "Requirement already satisfied: Shapely in /usr/local/lib/python3.7/dist-packages (from imgaug->-r requirements.txt (line 4)) (1.7.1)\n",
            "Requirement already satisfied: imageio in /usr/local/lib/python3.7/dist-packages (from imgaug->-r requirements.txt (line 4)) (2.4.1)\n",
            "Requirement already satisfied: scikit-image>=0.11.0 in /usr/local/lib/python3.7/dist-packages (from imgaug->-r requirements.txt (line 4)) (0.16.2)\n",
            "Requirement already satisfied: matplotlib in /usr/local/lib/python3.7/dist-packages (from imgaug->-r requirements.txt (line 4)) (3.2.2)\n",
            "Requirement already satisfied: six in /usr/local/lib/python3.7/dist-packages (from imgaug->-r requirements.txt (line 4)) (1.15.0)\n",
            "Requirement already satisfied: PyWavelets>=0.4.0 in /usr/local/lib/python3.7/dist-packages (from scikit-image>=0.11.0->imgaug->-r requirements.txt (line 4)) (1.1.1)\n",
            "Requirement already satisfied: networkx>=2.0 in /usr/local/lib/python3.7/dist-packages (from scikit-image>=0.11.0->imgaug->-r requirements.txt (line 4)) (2.6.3)\n",
            "Requirement already satisfied: kiwisolver>=1.0.1 in /usr/local/lib/python3.7/dist-packages (from matplotlib->imgaug->-r requirements.txt (line 4)) (1.3.2)\n",
            "Requirement already satisfied: cycler>=0.10 in /usr/local/lib/python3.7/dist-packages (from matplotlib->imgaug->-r requirements.txt (line 4)) (0.10.0)\n",
            "Requirement already satisfied: pyparsing!=2.0.4,!=2.1.2,!=2.1.6,>=2.0.1 in /usr/local/lib/python3.7/dist-packages (from matplotlib->imgaug->-r requirements.txt (line 4)) (2.4.7)\n",
            "Requirement already satisfied: python-dateutil>=2.1 in /usr/local/lib/python3.7/dist-packages (from matplotlib->imgaug->-r requirements.txt (line 4)) (2.8.2)\n",
            "Building wheels for collected packages: blend-modes, pytweening\n",
            "  Building wheel for blend-modes (setup.py) ... \u001b[?25l\u001b[?25hdone\n",
            "  Created wheel for blend-modes: filename=blend_modes-2.1.0-py3-none-any.whl size=9555 sha256=da2b8f13be1b012b3f4d5e4dbe4ee74e3b6a4d02e852cbb33b887a5e8934677f\n",
            "  Stored in directory: /root/.cache/pip/wheels/c1/58/99/5c5df7ca7a3fbd1819ca4e5e1c18680840a9d29f965347471c\n",
            "  Building wheel for pytweening (setup.py) ... \u001b[?25l\u001b[?25hdone\n",
            "  Created wheel for pytweening: filename=pytweening-1.0.4-py3-none-any.whl size=5854 sha256=10079c20551a95d171a4bb805b3bb76dd905a83ff335102e38dbd8a981a30693\n",
            "  Stored in directory: /root/.cache/pip/wheels/13/0b/3b/73efc9b0421547a03ed3208c92a88ccddae2ce853c1e6da7e9\n",
            "Successfully built blend-modes pytweening\n",
            "Installing collected packages: Pillow, pytweening, python-bidi, pygame, fonttools, blend-modes, arabic-reshaper\n",
            "  Attempting uninstall: Pillow\n",
            "    Found existing installation: Pillow 7.1.2\n",
            "    Uninstalling Pillow-7.1.2:\n",
            "      Successfully uninstalled Pillow-7.1.2\n",
            "\u001b[31mERROR: pip's dependency resolver does not currently take into account all the packages that are installed. This behaviour is the source of the following dependency conflicts.\n",
            "albumentations 0.1.12 requires imgaug<0.2.7,>=0.2.5, but you have imgaug 0.2.9 which is incompatible.\u001b[0m\n",
            "Successfully installed Pillow-8.3.2 arabic-reshaper-2.1.3 blend-modes-2.1.0 fonttools-4.27.0 pygame-2.0.1 python-bidi-0.4.2 pytweening-1.0.4\n"
          ]
        },
        {
          "output_type": "display_data",
          "data": {
            "application/vnd.colab-display-data+json": {
              "pip_warning": {
                "packages": [
                  "PIL"
                ]
              }
            }
          },
          "metadata": {}
        }
      ]
    },
    {
      "cell_type": "markdown",
      "metadata": {
        "id": "0XNTeaU2IAhB"
      },
      "source": [
        "## <font color=\"#0AC009\" size=\"+3\">2. Usage</font>"
      ]
    },
    {
      "cell_type": "markdown",
      "metadata": {
        "id": "0mAf5-RrIA67"
      },
      "source": [
        "#### <font color=\"42a5f5\" size=\"+2\">2.1) Command line</font>\n"
      ]
    },
    {
      "cell_type": "code",
      "metadata": {
        "colab": {
          "base_uri": "https://localhost:8080/"
        },
        "id": "UFzYcA6jED-7",
        "outputId": "fb4d1991-f005-4dff-e0ab-8704dae60030"
      },
      "source": [
        "# horizontal\n",
        "!python gen.py --template templates/default.py \\\n",
        "    --config templates/default_horizontal.yaml \\\n",
        "    --output results \\\n",
        "    --worker 1 \\\n",
        "    --count 5"
      ],
      "execution_count": 4,
      "outputs": [
        {
          "output_type": "stream",
          "name": "stdout",
          "text": [
            "{'config': {'color': {'alpha': [1, 1], 'colorize': 1, 'gray': [0, 255]},\n",
            "            'colormap': {'alpha': [1, 1],\n",
            "                         'colorize': 1,\n",
            "                         'paths': ['resources/colormap/iiit5k_gray.txt'],\n",
            "                         'weights': [1]},\n",
            "            'corpus': {'args': [{'augmentation': 0.1,\n",
            "                                 'augmentation_length': [1, 25],\n",
            "                                 'max_length': 25,\n",
            "                                 'min_length': 1,\n",
            "                                 'paths': ['resources/corpus/mjsynth.txt',\n",
            "                                           'resources/corpus/synthtext.txt'],\n",
            "                                 'textcase': 1,\n",
            "                                 'weights': [1, 1]},\n",
            "                                {'augmentation': 0,\n",
            "                                 'augmentation_charset': 'resources/charset/alphanum_special.txt',\n",
            "                                 'max_length': 25,\n",
            "                                 'min_length': 1,\n",
            "                                 'paths': [],\n",
            "                                 'textcase': 1,\n",
            "                                 'weights': []}],\n",
            "                       'weights': [1, 0]},\n",
            "            'font': {'bold': 0.5,\n",
            "                     'paths': ['resources/font'],\n",
            "                     'size': [40, 80],\n",
            "                     'weights': [1]},\n",
            "            'foreground_mask_pad': 5,\n",
            "            'layout': {'args': [{'space': [-2, 5]},\n",
            "                                {'convex': 0.5,\n",
            "                                 'curve': [20, 40],\n",
            "                                 'space': [-2, 5],\n",
            "                                 'upward': 0.5}],\n",
            "                       'weights': [4, 1]},\n",
            "            'margin': {'args': {'bottom': [0, 10],\n",
            "                                'left': [0, 10],\n",
            "                                'right': [0, 10],\n",
            "                                'top': [0, 10]},\n",
            "                       'prob': 1},\n",
            "            'midground': 0.25,\n",
            "            'midground_offset': {'offset': [[-0.5, 0.5], [-0.5, 0.5]]},\n",
            "            'postprocess': {'args': [{'args': {'per_channel': 0,\n",
            "                                               'scale': [4, 8]},\n",
            "                                      'prob': 1},\n",
            "                                     {'args': {'sigma': [0, 2]}, 'prob': 0.9},\n",
            "                                     {'args': {'size': [0.4, 0.4]},\n",
            "                                      'prob': 0.1},\n",
            "                                     {'args': {'k': [1, 1]}, 'prob': 1}]},\n",
            "            'quality': [50, 95],\n",
            "            'shape': {'args': {'args': [{'alpha': [15, 30], 'sigma': [4, 12]},\n",
            "                                        {'alpha': [0, 2], 'sigma': [0, 0.6]}],\n",
            "                               'weights': [1, 1]},\n",
            "                      'prob': 1},\n",
            "            'style': {'args': {'args': [{'color': {'alpha': [1, 1]},\n",
            "                                         'size': [1, 12]},\n",
            "                                        {'angle': [0, 360],\n",
            "                                         'color': {'alpha': [0.3, 0.7]},\n",
            "                                         'distance': [1, 6]},\n",
            "                                        {'angle': [0, 360],\n",
            "                                         'color': {'alpha': [1, 1]},\n",
            "                                         'length': [1, 12]}],\n",
            "                               'weights': [1, 2, 2]},\n",
            "                      'prob': 0.25},\n",
            "            'texture': {'args': {'alpha': [0, 1],\n",
            "                                 'crop': 1,\n",
            "                                 'grayscale': 0,\n",
            "                                 'paths': ['resources/image'],\n",
            "                                 'weights': [1]},\n",
            "                        'prob': 0.5},\n",
            "            'transform': {'args': {'args': [{'scale': [0.5, 1],\n",
            "                                             'weights': [1, 1]},\n",
            "                                            {'align': [-1, 1],\n",
            "                                             'scale': [0.75, 1],\n",
            "                                             'weights': [1, 1, 0, 0]},\n",
            "                                            {'align': [-1, 1],\n",
            "                                             'scale': [0.5, 1],\n",
            "                                             'weights': [0, 0, 1, 1]},\n",
            "                                            {'angle': [0, 30],\n",
            "                                             'ccw': 0.5,\n",
            "                                             'weights': [1, 0]},\n",
            "                                            {'angle': [0, 10],\n",
            "                                             'ccw': 0.5,\n",
            "                                             'weights': [0, 1]},\n",
            "                                            {'angle': [0, 10], 'ccw': 0.5}],\n",
            "                                   'weights': [2, 1, 1, 1, 1, 2]},\n",
            "                          'prob': 1},\n",
            "            'vertical': False,\n",
            "            'visibility_check': True},\n",
            " 'count': 5,\n",
            " 'output': 'results',\n",
            " 'template': 'templates/default.py',\n",
            " 'worker': 1}\n",
            "Traceback (most recent call last):\n",
            "  File \"gen.py\", line 37, in consume\n",
            "    data = template.generate()\n",
            "  File \"/content/synthtiger/templates/default.py\", line 112, in generate\n",
            "    fg_image, bg_image, visibility_check=self.visibility_check\n",
            "  File \"/content/synthtiger/templates/default.py\", line 219, in _blend_images\n",
            "    raise ValueError\n",
            "ValueError\n",
            "\n",
            "Saved 1 images\n",
            "Saved 2 images\n",
            "Saved 3 images\n",
            "Saved 4 images\n",
            "Saved 5 images\n",
            "12.20 seconds elapsed\n"
          ]
        }
      ]
    }
  ]
}
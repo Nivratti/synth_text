{
  "nbformat": 4,
  "nbformat_minor": 0,
  "metadata": {
    "colab": {
      "name": "stack-np-image-arrays--make-it-bigger-image.ipynb",
      "provenance": [],
      "collapsed_sections": [],
      "authorship_tag": "ABX9TyM+x0E/kZkEnrApIsoCzzit",
      "include_colab_link": true
    },
    "kernelspec": {
      "name": "python3",
      "display_name": "Python 3"
    },
    "language_info": {
      "name": "python"
    }
  },
  "cells": [
    {
      "cell_type": "markdown",
      "metadata": {
        "id": "view-in-github",
        "colab_type": "text"
      },
      "source": [
        "<a href=\"https://colab.research.google.com/github/Nivratti/synth_text/blob/main/stack_np_image_arrays_make_it_bigger_image.ipynb\" target=\"_parent\"><img src=\"https://colab.research.google.com/assets/colab-badge.svg\" alt=\"Open In Colab\"/></a>"
      ]
    },
    {
      "cell_type": "markdown",
      "metadata": {
        "id": "nYWzeCIahVgX"
      },
      "source": [
        "stack same image to make it bigger image. This will be used as a background image for text recognitioon data generator"
      ]
    },
    {
      "cell_type": "code",
      "metadata": {
        "id": "N6y81-dPybIa"
      },
      "source": [
        "import cv2\n",
        "from PIL import Image\n",
        "\n",
        "img_bgr = cv2.imread(\"/content/8.PNG\", 1)\n",
        "img_rgb = cv2.cvtColor(img_bgr, cv2.COLOR_BGR2RGB)"
      ],
      "execution_count": null,
      "outputs": []
    },
    {
      "cell_type": "code",
      "metadata": {
        "colab": {
          "base_uri": "https://localhost:8080/"
        },
        "id": "L2yAzGuRzOr1",
        "outputId": "b8238231-0aa0-4cb7-d3ba-b39f3c5690b9"
      },
      "source": [
        "img_rgb.shape"
      ],
      "execution_count": null,
      "outputs": [
        {
          "output_type": "execute_result",
          "data": {
            "text/plain": [
              "(223, 116, 3)"
            ]
          },
          "metadata": {},
          "execution_count": 2
        }
      ]
    },
    {
      "cell_type": "code",
      "metadata": {
        "colab": {
          "base_uri": "https://localhost:8080/",
          "height": 240
        },
        "id": "Kk1seKUJzSlI",
        "outputId": "cf3aed35-6377-4332-87c0-a206f96d2bc9"
      },
      "source": [
        "Image.fromarray(img_rgb)"
      ],
      "execution_count": null,
      "outputs": [
        {
          "output_type": "execute_result",
          "data": {
            "image/png": "[encoded data removed]",
            "text/plain": [
              "<PIL.Image.Image image mode=RGB size=116x223 at 0x7FCCF7CA9590>"
            ]
          },
          "metadata": {},
          "execution_count": 5
        }
      ]
    },
    {
      "cell_type": "code",
      "metadata": {
        "colab": {
          "base_uri": "https://localhost:8080/"
        },
        "id": "oBc-6eZ5z5wE",
        "outputId": "641945b3-4d90-48d6-8c62-c8ba50c83d85"
      },
      "source": [
        "np.array([img_rgb] * 4).shape"
      ],
      "execution_count": null,
      "outputs": [
        {
          "output_type": "execute_result",
          "data": {
            "text/plain": [
              "(4, 223, 116, 3)"
            ]
          },
          "metadata": {},
          "execution_count": 12
        }
      ]
    },
    {
      "cell_type": "code",
      "metadata": {
        "colab": {
          "base_uri": "https://localhost:8080/",
          "height": 240
        },
        "id": "2X9dSHhpzb9H",
        "outputId": "3931a405-85d3-46f6-9452-a0580bf6958f"
      },
      "source": [
        "import numpy as np\n",
        "\n",
        "Image.fromarray(np.hstack((np.array([img_rgb] * 4))))"
      ],
      "execution_count": null,
      "outputs": [
        {
          "output_type": "execute_result",
          "data": {
            "image/png": "[encoded data removed]",
            "text/plain": [
              "<PIL.Image.Image image mode=RGB size=464x223 at 0x7FCCE6CAFE10>"
            ]
          },
          "metadata": {},
          "execution_count": 16
        }
      ]
    }
  ]
}